{
 "cells": [
  {
   "cell_type": "markdown",
   "metadata": {
    "collapsed": true
   },
   "source": [
    "## Анализ данных с использованием spark"
   ]
  },
  {
   "cell_type": "code",
   "execution_count": null,
   "metadata": {
    "collapsed": true
   },
   "outputs": [],
   "source": [
    "from pyspark import SparkContext\n",
    "from pyspark.sql import SparkSession, SQLContext"
   ]
  },
  {
   "cell_type": "code",
   "execution_count": 2,
   "metadata": {
    "collapsed": true
   },
   "outputs": [],
   "source": [
    "spark = SparkSession.builder \\\n",
    "        .master('local') \\\n",
    "        .appName('homework_big_data') \\\n",
    "        .getOrCreate()"
   ]
  },
  {
   "cell_type": "code",
   "execution_count": 3,
   "metadata": {
    "collapsed": true
   },
   "outputs": [],
   "source": [
    "sql = SQLContext(sparkContext=spark.sparkContext, sparkSession=spark)"
   ]
  },
  {
   "cell_type": "markdown",
   "metadata": {},
   "source": [
    "## Чтение и первичный анализ данных\n",
    "\n",
    "Данные представлены в виде трёх csv-таблиц: таблицы оценок, информации о книгах и информации о пользователях."
   ]
  },
  {
   "cell_type": "code",
   "execution_count": 4,
   "metadata": {
    "collapsed": true
   },
   "outputs": [],
   "source": [
    "books = spark.read.csv('BX-Books.csv', header=True, sep=';')\n",
    "users = spark.read.csv('BX-Users.csv', header=True, sep=';')\n",
    "ratings = spark.read.csv('BX-Book-Ratings.csv', header=True, sep=';')"
   ]
  },
  {
   "cell_type": "code",
   "execution_count": 51,
   "metadata": {
    "collapsed": true
   },
   "outputs": [],
   "source": [
    "books.registerTempTable('books')\n",
    "users.registerTempTable('users')\n",
    "ratings.registerTempTable('ratings')"
   ]
  },
  {
   "cell_type": "code",
   "execution_count": 7,
   "metadata": {
    "collapsed": false
   },
   "outputs": [
    {
     "name": "stdout",
     "output_type": "stream",
     "text": [
      "books:\t 271379\n",
      "users:\t 278859\n",
      "ratings: 1149780\n"
     ]
    }
   ],
   "source": [
    "print('books:\\t', books.count())\n",
    "print('users:\\t', users.count())\n",
    "print('ratings:', ratings.count())"
   ]
  },
  {
   "cell_type": "code",
   "execution_count": 8,
   "metadata": {
    "collapsed": false
   },
   "outputs": [
    {
     "name": "stdout",
     "output_type": "stream",
     "text": [
      "root\n",
      " |-- ISBN: string (nullable = true)\n",
      " |-- Book-Title: string (nullable = true)\n",
      " |-- Book-Author: string (nullable = true)\n",
      " |-- Year-Of-Publication: string (nullable = true)\n",
      " |-- Publisher: string (nullable = true)\n",
      " |-- Image-URL-S: string (nullable = true)\n",
      " |-- Image-URL-M: string (nullable = true)\n",
      " |-- Image-URL-L: string (nullable = true)\n",
      "\n",
      "root\n",
      " |-- User-ID: string (nullable = true)\n",
      " |-- Location: string (nullable = true)\n",
      " |-- Age: string (nullable = true)\n",
      "\n",
      "root\n",
      " |-- User-ID: string (nullable = true)\n",
      " |-- ISBN: string (nullable = true)\n",
      " |-- Book-Rating: string (nullable = true)\n",
      "\n"
     ]
    }
   ],
   "source": [
    "books.printSchema()\n",
    "users.printSchema()\n",
    "ratings.printSchema()"
   ]
  },
  {
   "cell_type": "markdown",
   "metadata": {},
   "source": [
    "### Распределение оценок\n",
    "\n",
    "Выведем распределение, используя модуль matplotlib"
   ]
  },
  {
   "cell_type": "code",
   "execution_count": 13,
   "metadata": {
    "collapsed": true
   },
   "outputs": [],
   "source": [
    "import matplotlib.pyplot as plt \n",
    "%matplotlib inline"
   ]
  },
  {
   "cell_type": "code",
   "execution_count": 10,
   "metadata": {
    "collapsed": true
   },
   "outputs": [],
   "source": [
    "ratings = ratings.withColumn('Book-Rating', ratings['Book-Rating'].cast('int'))"
   ]
  },
  {
   "cell_type": "code",
   "execution_count": 14,
   "metadata": {
    "collapsed": false
   },
   "outputs": [
    {
     "data": {
      "image/png": "[encoded data removed]",
      "text/plain": [
       "<matplotlib.figure.Figure at 0x18b80377748>"
      ]
     },
     "metadata": {},
     "output_type": "display_data"
    }
   ],
   "source": [
    "plt.title('Book-Rating')\n",
    "plt.hist(ratings.toPandas()['Book-Rating'])\n",
    "plt.show()"
   ]
  },
  {
   "cell_type": "markdown",
   "metadata": {},
   "source": [
    "Полученный результат необходимо корректно интерпретировать. А именно - данное распределение не отражает реальное распределения качества книг по мнению пользователей. Причин несколько:\n",
    "\n",
    "1) Большое количество нулевых оценок связано с тем, что многие книги не оценивал вообще никто\n",
    "\n",
    "2) Рост оценок от 1 до 10 связан с тем, что пользователь скорее всего прочитает книгу, про которую он считает, что она ему понравится. Соответственно, оценит он её выше среднего."
   ]
  },
  {
   "cell_type": "markdown",
   "metadata": {},
   "source": [
    "### Информация о пользователях\n",
    "\n",
    "Информация включает помимо id возраст пользователя и его местонахождение."
   ]
  },
  {
   "cell_type": "code",
   "execution_count": 19,
   "metadata": {
    "collapsed": false
   },
   "outputs": [
    {
     "name": "stdout",
     "output_type": "stream",
     "text": [
      "+-------+--------------------+----+\n",
      "|User-ID|            Location| Age|\n",
      "+-------+--------------------+----+\n",
      "|      1|  nyc, new york, usa|null|\n",
      "|      2|stockton, califor...|  18|\n",
      "|      3|moscow, yukon ter...|null|\n",
      "|      4|porto, v.n.gaia, ...|  17|\n",
      "|      5|farnborough, hant...|null|\n",
      "|      6|santa monica, cal...|  61|\n",
      "|      7| washington, dc, usa|null|\n",
      "|      8|timmins, ontario,...|null|\n",
      "|      9|germantown, tenne...|null|\n",
      "|     10|albacete, wiscons...|  26|\n",
      "|     11|melbourne, victor...|  14|\n",
      "|     12|fort bragg, calif...|null|\n",
      "|     13|barcelona, barcel...|  26|\n",
      "|     14|mediapolis, iowa,...|null|\n",
      "|     15|calgary, alberta,...|null|\n",
      "|     16|albuquerque, new ...|null|\n",
      "|     17|chesapeake, virgi...|null|\n",
      "|     18|rio de janeiro, r...|  25|\n",
      "|     19|           weston, ,|  14|\n",
      "|     20|langhorne, pennsy...|  19|\n",
      "+-------+--------------------+----+\n",
      "only showing top 20 rows\n",
      "\n"
     ]
    }
   ],
   "source": [
    "sql.sql(\"select * from users\").show()"
   ]
  },
  {
   "cell_type": "markdown",
   "metadata": {},
   "source": [
    "### Самые популярные книги - топ 5\n",
    "\n",
    "Пример использования данных для получения чего-то осмысленного. Выберем 5 самых популярных книг. К удивлению, я ни одной из них не слышал."
   ]
  },
  {
   "cell_type": "code",
   "execution_count": 15,
   "metadata": {
    "collapsed": false
   },
   "outputs": [
    {
     "name": "stdout",
     "output_type": "stream",
     "text": [
      "+----------+------------------+\n",
      "|      ISBN|count(Book-Rating)|\n",
      "+----------+------------------+\n",
      "|0971880107|              2502|\n",
      "|0316666343|              1295|\n",
      "|0385504209|               883|\n",
      "|0060928336|               732|\n",
      "|0312195516|               723|\n",
      "+----------+------------------+\n",
      "only showing top 5 rows\n",
      "\n"
     ]
    }
   ],
   "source": [
    "rating_count = ratings.groupby('ISBN').agg({'Book-Rating':'count'}).orderBy('count(Book-Rating)', ascending=False)\n",
    "rating_count.show(5)"
   ]
  },
  {
   "cell_type": "code",
   "execution_count": 25,
   "metadata": {
    "collapsed": false
   },
   "outputs": [
    {
     "name": "stdout",
     "output_type": "stream",
     "text": [
      "+----------+----------+-------------+\n",
      "|      ISBN|Book-Title|    Publisher|\n",
      "+----------+----------+-------------+\n",
      "|0971880107|Book-Title|      Too Far|\n",
      "|0316666343|Book-Title|Little, Brown|\n",
      "|0312195516|Book-Title|  Picador USA|\n",
      "|0385504209|Book-Title|    Doubleday|\n",
      "|0060928336|Book-Title|    Perennial|\n",
      "+----------+----------+-------------+\n",
      "\n"
     ]
    }
   ],
   "source": [
    "sql.sql(\"select ISBN, 'Book-Title', Publisher  from books where ISBN in ('0971880107', '0316666343', '0385504209', '0060928336', '0312195516') \").show()"
   ]
  },
  {
   "cell_type": "markdown",
   "metadata": {},
   "source": [
    "### Средние величины\n",
    "\n",
    "Посмотрим на средний рейтинг и среднее количесвто голосов."
   ]
  },
  {
   "cell_type": "code",
   "execution_count": 49,
   "metadata": {
    "collapsed": false
   },
   "outputs": [
    {
     "name": "stdout",
     "output_type": "stream",
     "text": [
      "root\n",
      " |-- userID: string (nullable = true)\n",
      " |-- ISBN: string (nullable = true)\n",
      " |-- bookRating: integer (nullable = true)\n",
      "\n"
     ]
    }
   ],
   "source": [
    "ratings = ratings.withColumn('Book-Rating', ratings['Book-Rating'].cast('int'))\n",
    "ratings.printSchema()"
   ]
  },
  {
   "cell_type": "code",
   "execution_count": 45,
   "metadata": {
    "collapsed": true
   },
   "outputs": [],
   "source": [
    "def rename_columns(data, new_columns):\n",
    "    from functools import reduce\n",
    "    old = data.schema.names\n",
    "    return reduce(lambda data, idx: data.withColumnRenamed(old[idx], new_columns[idx]), \n",
    "                  range(len(old)), data)"
   ]
  },
  {
   "cell_type": "code",
   "execution_count": null,
   "metadata": {
    "collapsed": true
   },
   "outputs": [],
   "source": [
    "ratings = rename_columns(ratings, ['userID', 'ISBN', 'bookRating'])"
   ]
  },
  {
   "cell_type": "code",
   "execution_count": 52,
   "metadata": {
    "collapsed": false
   },
   "outputs": [
    {
     "name": "stdout",
     "output_type": "stream",
     "text": [
      "+----------+------------------+-----------+\n",
      "|      ISBN|   avg(bookRating)|count(ISBN)|\n",
      "+----------+------------------+-----------+\n",
      "|2080674722|3.6666666666666665|          3|\n",
      "|3499134004|               0.0|          1|\n",
      "|3548603203|3.4166666666666665|         24|\n",
      "|880781112X| 4.333333333333333|          3|\n",
      "|0738205737|1.6666666666666667|          3|\n",
      "|0749317256|               0.0|          1|\n",
      "|0515131520|            1.6875|         16|\n",
      "|8471662531|               7.0|          1|\n",
      "|0441005470|               0.0|          1|\n",
      "|0739417096| 5.285714285714286|          7|\n",
      "|0767906373|             1.125|          8|\n",
      "|0425087859|2.6666666666666665|          3|\n",
      "|0553574566| 2.977777777777778|         45|\n",
      "|0498024253|               3.5|          2|\n",
      "|0395977894| 5.090909090909091|         44|\n",
      "|0505522004|               1.4|          5|\n",
      "|0425188787|3.4166666666666665|         60|\n",
      "|0515137111|3.5344827586206895|         58|\n",
      "|0767905385| 3.825174825174825|        143|\n",
      "|0553580906| 2.341463414634146|         41|\n",
      "+----------+------------------+-----------+\n",
      "only showing top 20 rows\n",
      "\n"
     ]
    }
   ],
   "source": [
    "sql.sql(\"select ISBN, avg(bookRating), count(ISBN) from  ratings group by ISBN\").show()"
   ]
  },
  {
   "cell_type": "markdown",
   "metadata": {},
   "source": [
    "## Отсечём неактивных юзеров и непопулярные книги"
   ]
  },
  {
   "cell_type": "code",
   "execution_count": 56,
   "metadata": {
    "collapsed": false
   },
   "outputs": [
    {
     "name": "stdout",
     "output_type": "stream",
     "text": [
      "+------+-------------+\n",
      "|userID|count(userID)|\n",
      "+------+-------------+\n",
      "| 32773|          745|\n",
      "|104665|          453|\n",
      "|227447|         2340|\n",
      "|230249|          271|\n",
      "|148744|         1550|\n",
      "| 92547|          268|\n",
      "|131046|          941|\n",
      "|241548|          406|\n",
      "|126604|          214|\n",
      "|212965|          372|\n",
      "|274061|         1038|\n",
      "| 31391|          208|\n",
      "| 73394|         1804|\n",
      "|162639|         1380|\n",
      "|207499|          216|\n",
      "| 83287|          203|\n",
      "|109461|          222|\n",
      "| 37712|          471|\n",
      "| 88793|          202|\n",
      "|217375|          851|\n",
      "+------+-------------+\n",
      "only showing top 20 rows\n",
      "\n"
     ]
    }
   ],
   "source": [
    "sql.sql(\"select userID, count(userID) from  ratings group by userID having count(userID)>=10 \").show()"
   ]
  },
  {
   "cell_type": "code",
   "execution_count": 72,
   "metadata": {
    "collapsed": true
   },
   "outputs": [],
   "source": [
    "good_users = sql.sql(\"select userID, count(userID) from  ratings group by userID having count(userID)>=0 \")"
   ]
  },
  {
   "cell_type": "code",
   "execution_count": 70,
   "metadata": {
    "collapsed": false
   },
   "outputs": [
    {
     "name": "stdout",
     "output_type": "stream",
     "text": [
      "+----------+-----------+\n",
      "|      ISBN|count(ISBN)|\n",
      "+----------+-----------+\n",
      "|0767905385|        143|\n",
      "|0553581554|        124|\n",
      "|0842329129|        297|\n",
      "|0670865796|        139|\n",
      "|0515135739|        102|\n",
      "|034540288X|        249|\n",
      "|0451156609|        170|\n",
      "|044021145X|        529|\n",
      "|0449219364|        171|\n",
      "|0446607657|        250|\n",
      "|0151008116|        170|\n",
      "|0515122734|        110|\n",
      "|0451167317|        153|\n",
      "|043935806X|        334|\n",
      "|0670892963|        131|\n",
      "|0440225701|        379|\n",
      "|0449134482|        121|\n",
      "|0380813815|        131|\n",
      "|0425151867|        100|\n",
      "|0345350499|        181|\n",
      "+----------+-----------+\n",
      "only showing top 20 rows\n",
      "\n"
     ]
    }
   ],
   "source": [
    "sql.sql(\"select ISBN, count(ISBN) from  ratings group by ISBN having count(ISBN)>=10\").show()"
   ]
  },
  {
   "cell_type": "code",
   "execution_count": 71,
   "metadata": {
    "collapsed": true
   },
   "outputs": [],
   "source": [
    "good_books = sql.sql(\"select ISBN, count(ISBN) from  ratings group by ISBN having count(ISBN)>=10\")"
   ]
  },
  {
   "cell_type": "code",
   "execution_count": 74,
   "metadata": {
    "collapsed": false
   },
   "outputs": [
    {
     "name": "stdout",
     "output_type": "stream",
     "text": [
      "+----------+-----------+\n",
      "|      ISBN|count(ISBN)|\n",
      "+----------+-----------+\n",
      "|0767905385|        143|\n",
      "|0553581554|        124|\n",
      "|0842329129|        297|\n",
      "|0670865796|        139|\n",
      "|0515135739|        102|\n",
      "|034540288X|        249|\n",
      "|0451156609|        170|\n",
      "|044021145X|        529|\n",
      "|0449219364|        171|\n",
      "|0446607657|        250|\n",
      "|0151008116|        170|\n",
      "|0515122734|        110|\n",
      "|0451167317|        153|\n",
      "|043935806X|        334|\n",
      "|0670892963|        131|\n",
      "|0440225701|        379|\n",
      "|0449134482|        121|\n",
      "|0380813815|        131|\n",
      "|0425151867|        100|\n",
      "|0345350499|        181|\n",
      "+----------+-----------+\n",
      "only showing top 20 rows\n",
      "\n"
     ]
    }
   ],
   "source": [
    "good_books.show()"
   ]
  },
  {
   "cell_type": "code",
   "execution_count": 79,
   "metadata": {
    "collapsed": true
   },
   "outputs": [],
   "source": [
    "filtered_ratings = sql.sql(\"select * from  ratings \" +\n",
    "                          c\"where ISBN in (select ISBN from  ratings group by ISBN having count(ISBN)>=100)\"+\n",
    "                          \"and userID in (select userID from  ratings group by userID having count(userID)>=200)\")"
   ]
  },
  {
   "cell_type": "code",
   "execution_count": 81,
   "metadata": {
    "collapsed": true
   },
   "outputs": [],
   "source": [
    "filtered_ratings.registerTempTable('filtered_ratings')"
   ]
  },
  {
   "cell_type": "code",
   "execution_count": 82,
   "metadata": {
    "collapsed": false
   },
   "outputs": [
    {
     "name": "stdout",
     "output_type": "stream",
     "text": [
      "+--------+\n",
      "|count(1)|\n",
      "+--------+\n",
      "|   49781|\n",
      "+--------+\n",
      "\n"
     ]
    }
   ],
   "source": [
    "sql.sql(\"select count(*) from filtered_ratings\").show()"
   ]
  }
 ],
 "metadata": {
  "anaconda-cloud": {},
  "kernelspec": {
   "display_name": "Python [default]",
   "language": "python",
   "name": "python3"
  },
  "language_info": {
   "codemirror_mode": {
    "name": "ipython",
    "version": 3
   },
   "file_extension": ".py",
   "mimetype": "text/x-python",
   "name": "python",
   "nbconvert_exporter": "python",
   "pygments_lexer": "ipython3",
   "version": "3.5.2"
  }
 },
 "nbformat": 4,
 "nbformat_minor": 2
}
